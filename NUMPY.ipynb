{
  "nbformat": 4,
  "nbformat_minor": 0,
  "metadata": {
    "colab": {
      "provenance": [],
      "authorship_tag": "ABX9TyMIGW17MQzUzj64w1cVkTO+",
      "include_colab_link": true
    },
    "kernelspec": {
      "name": "python3",
      "display_name": "Python 3"
    },
    "language_info": {
      "name": "python"
    }
  },
  "cells": [
    {
      "cell_type": "markdown",
      "metadata": {
        "id": "view-in-github",
        "colab_type": "text"
      },
      "source": [
        "<a href=\"https://colab.research.google.com/github/satyam26en/satyam26en/blob/main/NUMPY.ipynb\" target=\"_parent\"><img src=\"https://colab.research.google.com/assets/colab-badge.svg\" alt=\"Open In Colab\"/></a>"
      ]
    },
    {
      "cell_type": "markdown",
      "source": [
        "# 1.1  Installing NumPy"
      ],
      "metadata": {
        "id": "q_03yaeS-l8o"
      }
    },
    {
      "cell_type": "markdown",
      "source": [],
      "metadata": {
        "id": "3jOMbC2f-8RS"
      }
    },
    {
      "cell_type": "markdown",
      "source": [
        "# **1.3  Numpy**"
      ],
      "metadata": {
        "id": "_zICCageyrBs"
      }
    },
    {
      "cell_type": "markdown",
      "source": [
        "***Understanding the Differences Between NumPy Arrays and Python Lists***\n",
        "\n",
        "## Introduction\n",
        "\n",
        "Python lists are versatile and widely used for various purposes, but when it comes to numerical operations and large-scale data manipulation, NumPy arrays offer significant advantages in terms of performance and functionality.\n",
        "\n",
        "### Key Differences Between NumPy Arrays and Python Lists\n",
        "\n",
        "| **Feature**                     | **Python Lists**                                            | **NumPy Arrays**                                          |\n",
        "|---------------------------------|-------------------------------------------------------------|-----------------------------------------------------------|\n",
        "| **Homogeneity**                 | Can contain elements of different data types.               | Must contain elements of the same data type.              |\n",
        "| **Memory Efficiency**           | Less memory efficient; stores each element as a full Python object. | More memory efficient; stores elements in a continuous block of memory. |\n",
        "| **Performance**                 | Slower for numerical operations due to overhead of dynamic typing. | Faster for numerical operations due to fixed data types and low-level optimizations. |\n",
        "| **Mathematical Operations**     | Limited built-in support for element-wise operations.       | Extensive support for element-wise operations and broadcasting. |\n",
        "| **Functionality**               | General-purpose, suitable for diverse tasks.                | Designed specifically for numerical computations and array operations. |\n",
        "| **Dimensionality**              | Primarily supports 1D (list) or nested lists for higher dimensions. | Natively supports multi-dimensional arrays (1D, 2D, 3D, etc.). |\n",
        "| **Slicing and Indexing**        | Supports simple slicing and indexing.                       | Advanced slicing, indexing, and broadcasting capabilities. |\n",
        "\n",
        "\n",
        "\n",
        "\n"
      ],
      "metadata": {
        "id": "l9wT7SRGy3CX"
      }
    },
    {
      "cell_type": "code",
      "source": [
        "import numpy as np"
      ],
      "metadata": {
        "id": "lpZOuaYt19Ok"
      },
      "execution_count": 5,
      "outputs": []
    },
    {
      "cell_type": "markdown",
      "source": [
        "# **1.4  Creating array in numpy**"
      ],
      "metadata": {
        "id": "cZt72C0M2B8B"
      }
    },
    {
      "cell_type": "markdown",
      "source": [
        "### 1. Converting Python Lists to NumPy Arrays"
      ],
      "metadata": {
        "id": "lfYkN7Vm4ID3"
      }
    },
    {
      "cell_type": "code",
      "source": [
        "# Creating a 1D NumPy array from a Python list\n",
        "list_1d = [1, 2, 3, 4, 5]\n",
        "array_1d = np.array(list_1d)\n",
        "print(\"1D Array:\", array_1d)"
      ],
      "metadata": {
        "colab": {
          "base_uri": "https://localhost:8080/"
        },
        "id": "oekyUAff4KYo",
        "outputId": "43bd27a9-77a4-4358-83e2-d634852f9dde"
      },
      "execution_count": 36,
      "outputs": [
        {
          "output_type": "stream",
          "name": "stdout",
          "text": [
            "1D Array: [1 2 3 4 5]\n"
          ]
        }
      ]
    },
    {
      "cell_type": "code",
      "source": [
        "array_1d.ndim # type of array like 1-d,2-d array"
      ],
      "metadata": {
        "colab": {
          "base_uri": "https://localhost:8080/"
        },
        "id": "9APpxL7P4gZV",
        "outputId": "1993d5d1-efb7-4c6d-8296-c4163fd7cc78"
      },
      "execution_count": 37,
      "outputs": [
        {
          "output_type": "execute_result",
          "data": {
            "text/plain": [
              "1"
            ]
          },
          "metadata": {},
          "execution_count": 37
        }
      ]
    },
    {
      "cell_type": "code",
      "source": [
        "# Creating a 2D NumPy array from a nested Python list\n",
        "list_2d = [[1, 2, 3], [4, 5, 6]]\n",
        "array_2d = np.array(list_2d)\n",
        "print(\"2D Array:\\n\", array_2d)"
      ],
      "metadata": {
        "colab": {
          "base_uri": "https://localhost:8080/"
        },
        "id": "A_0TjGUm4Rhi",
        "outputId": "a9702845-b474-4933-c441-9e8dea0fe774"
      },
      "execution_count": 38,
      "outputs": [
        {
          "output_type": "stream",
          "name": "stdout",
          "text": [
            "2D Array:\n",
            " [[1 2 3]\n",
            " [4 5 6]]\n"
          ]
        }
      ]
    },
    {
      "cell_type": "code",
      "source": [
        "array_2d.ndim # type of array like 1-d,2-d array"
      ],
      "metadata": {
        "colab": {
          "base_uri": "https://localhost:8080/"
        },
        "id": "LEP5ZCL_2Q77",
        "outputId": "e24bf620-f7fd-46b1-ba26-7f37247a4d19"
      },
      "execution_count": 39,
      "outputs": [
        {
          "output_type": "execute_result",
          "data": {
            "text/plain": [
              "2"
            ]
          },
          "metadata": {},
          "execution_count": 39
        }
      ]
    },
    {
      "cell_type": "markdown",
      "source": [
        "**Key Points:**\n",
        "\n",
        "The np.array() function converts a Python list (or nested list) into a NumPy array.\n",
        "The resulting NumPy array inherits the data type from the list elements or automatically converts mixed types to the most appropriate type (e.g., converting integers to floats if necessary)."
      ],
      "metadata": {
        "id": "ijI7aZqF4ttR"
      }
    },
    {
      "cell_type": "markdown",
      "source": [
        "### 2. Creating Arrays with Default Values"
      ],
      "metadata": {
        "id": "3d-K9Mrl5q3e"
      }
    },
    {
      "cell_type": "markdown",
      "source": [
        "***1.*** np.zeros(): Creates an array filled with zeros."
      ],
      "metadata": {
        "id": "0JLSBtxt6Qk8"
      }
    },
    {
      "cell_type": "code",
      "source": [
        "# Creating a 1D array of zeros\n",
        "zeros_1d = np.zeros(5)\n",
        "print(\"1D Array of zeros:\", zeros_1d)"
      ],
      "metadata": {
        "colab": {
          "base_uri": "https://localhost:8080/"
        },
        "id": "c9tpLwxL5s6W",
        "outputId": "4b8b1d15-0620-4be2-bdae-8eab462e84bf"
      },
      "execution_count": 40,
      "outputs": [
        {
          "output_type": "stream",
          "name": "stdout",
          "text": [
            "1D Array of zeros: [0. 0. 0. 0. 0.]\n"
          ]
        }
      ]
    },
    {
      "cell_type": "code",
      "source": [
        "# Creating a 2D array of zeros\n",
        "zeros_2d = np.zeros((2, 3))\n",
        "print(\"2D Array of zeros:\\n\", zeros_2d)"
      ],
      "metadata": {
        "colab": {
          "base_uri": "https://localhost:8080/"
        },
        "id": "Gg1paZB55z7x",
        "outputId": "7317c39d-88b6-4009-c851-9ccd8904aecb"
      },
      "execution_count": 41,
      "outputs": [
        {
          "output_type": "stream",
          "name": "stdout",
          "text": [
            "2D Array of zeros:\n",
            " [[0. 0. 0.]\n",
            " [0. 0. 0.]]\n"
          ]
        }
      ]
    },
    {
      "cell_type": "markdown",
      "source": [
        "***2.*** np.ones(): Creates an array filled with ones."
      ],
      "metadata": {
        "id": "Hfw7wsaB56sj"
      }
    },
    {
      "cell_type": "code",
      "source": [
        "# Creating a 1D array of ones\n",
        "ones_1d = np.ones(4)\n",
        "print(\"1D Array of ones:\", ones_1d)"
      ],
      "metadata": {
        "colab": {
          "base_uri": "https://localhost:8080/"
        },
        "id": "ywODsmah58XA",
        "outputId": "11a4cf8e-336c-4438-f01d-78a2588307ce"
      },
      "execution_count": 42,
      "outputs": [
        {
          "output_type": "stream",
          "name": "stdout",
          "text": [
            "1D Array of ones: [1. 1. 1. 1.]\n"
          ]
        }
      ]
    },
    {
      "cell_type": "code",
      "source": [
        "# Creating a 2D array of ones\n",
        "ones_2d = np.ones((3, 2))\n",
        "print(\"2D Array of ones:\\n\", ones_2d)"
      ],
      "metadata": {
        "colab": {
          "base_uri": "https://localhost:8080/"
        },
        "id": "7rZuVpyK6Aae",
        "outputId": "7af9b059-5672-4e86-9d7e-bd6d57bd675a"
      },
      "execution_count": 43,
      "outputs": [
        {
          "output_type": "stream",
          "name": "stdout",
          "text": [
            "2D Array of ones:\n",
            " [[1. 1.]\n",
            " [1. 1.]\n",
            " [1. 1.]]\n"
          ]
        }
      ]
    },
    {
      "cell_type": "markdown",
      "source": [
        "***3.*** np.full(): Creates an array filled with a specified constant value."
      ],
      "metadata": {
        "id": "I5enX21e6DXn"
      }
    },
    {
      "cell_type": "code",
      "source": [
        "# Creating a 1D array filled with the value 7\n",
        "full_1d = np.full(5, 7)\n",
        "print(\"1D Array filled with 7s:\", full_1d)"
      ],
      "metadata": {
        "colab": {
          "base_uri": "https://localhost:8080/"
        },
        "id": "iYEgNw2G6Em1",
        "outputId": "53a4765b-ea69-4802-83e4-58507e0ee902"
      },
      "execution_count": 44,
      "outputs": [
        {
          "output_type": "stream",
          "name": "stdout",
          "text": [
            "1D Array filled with 7s: [7 7 7 7 7]\n"
          ]
        }
      ]
    },
    {
      "cell_type": "code",
      "source": [
        "# Creating a 2D array filled with the value 9\n",
        "full_2d = np.full((2, 3), 9)\n",
        "print(\"2D Array filled with 9s:\\n\", full_2d)"
      ],
      "metadata": {
        "colab": {
          "base_uri": "https://localhost:8080/"
        },
        "id": "zMxAypJf6JlH",
        "outputId": "7f83fd24-25bb-4693-908a-f3b37d0f307e"
      },
      "execution_count": 45,
      "outputs": [
        {
          "output_type": "stream",
          "name": "stdout",
          "text": [
            "2D Array filled with 9s:\n",
            " [[9 9 9]\n",
            " [9 9 9]]\n"
          ]
        }
      ]
    },
    {
      "cell_type": "markdown",
      "source": [
        "### 3. Creating Arrays with a Range of Values"
      ],
      "metadata": {
        "id": "DeGI3vjj6rMH"
      }
    },
    {
      "cell_type": "markdown",
      "source": [
        "***1.*** np.arange(): Creates an array with a sequence of values, similar to Python's range() function."
      ],
      "metadata": {
        "id": "UyGpD3G96tIF"
      }
    },
    {
      "cell_type": "code",
      "source": [
        "# Creating an array with values from 0 to 9\n",
        "arange_array = np.arange(10)\n",
        "print(\"Array with arange:\", arange_array)"
      ],
      "metadata": {
        "colab": {
          "base_uri": "https://localhost:8080/"
        },
        "id": "AV7g1tDd6yjn",
        "outputId": "5856564d-531e-47b5-b662-4d8fc76a8186"
      },
      "execution_count": 46,
      "outputs": [
        {
          "output_type": "stream",
          "name": "stdout",
          "text": [
            "Array with arange: [0 1 2 3 4 5 6 7 8 9]\n"
          ]
        }
      ]
    },
    {
      "cell_type": "code",
      "source": [
        "# Creating an array with values from 0 to 9 with a step of 2\n",
        "arange_step_array = np.arange(0, 10, 2)\n",
        "print(\"Array with arange and step of 2:\", arange_step_array)"
      ],
      "metadata": {
        "colab": {
          "base_uri": "https://localhost:8080/"
        },
        "id": "6K05jtWQ64hB",
        "outputId": "8f5a15ef-238d-4a10-cea4-be734b7a3387"
      },
      "execution_count": 47,
      "outputs": [
        {
          "output_type": "stream",
          "name": "stdout",
          "text": [
            "Array with arange and step of 2: [0 2 4 6 8]\n"
          ]
        }
      ]
    },
    {
      "cell_type": "markdown",
      "source": [
        "***2.*** np.linspace(): Creates an array with evenly spaced values over a specified interval."
      ],
      "metadata": {
        "id": "gUo5LVwf68Sn"
      }
    },
    {
      "cell_type": "code",
      "source": [
        "# Creating an array with 5 evenly spaced values between 0 and 1\n",
        "linspace_array = np.linspace(0, 1, 5)\n",
        "print(\"Array with linspace:\", linspace_array)"
      ],
      "metadata": {
        "colab": {
          "base_uri": "https://localhost:8080/"
        },
        "id": "6kOTla_A6-gb",
        "outputId": "2ab3b963-6693-466d-ae9b-654730c4aa71"
      },
      "execution_count": 48,
      "outputs": [
        {
          "output_type": "stream",
          "name": "stdout",
          "text": [
            "Array with linspace: [0.   0.25 0.5  0.75 1.  ]\n"
          ]
        }
      ]
    },
    {
      "cell_type": "markdown",
      "source": [
        "### 4. Creating Identity and Diagonal Matrices"
      ],
      "metadata": {
        "id": "-QLpNgSR7Drt"
      }
    },
    {
      "cell_type": "markdown",
      "source": [
        "***1.*** np.eye(): Creates an identity matrix"
      ],
      "metadata": {
        "id": "vwhMGtz07F9_"
      }
    },
    {
      "cell_type": "code",
      "source": [
        "# Creating a 3x3 identity matrix\n",
        "identity_matrix = np.eye(3)\n",
        "print(\"Identity matrix:\\n\", identity_matrix)"
      ],
      "metadata": {
        "colab": {
          "base_uri": "https://localhost:8080/"
        },
        "id": "UorlDyJC7JuT",
        "outputId": "a8e06a7d-ac70-419f-dc3d-c0defa7d81da"
      },
      "execution_count": 49,
      "outputs": [
        {
          "output_type": "stream",
          "name": "stdout",
          "text": [
            "Identity matrix:\n",
            " [[1. 0. 0.]\n",
            " [0. 1. 0.]\n",
            " [0. 0. 1.]]\n"
          ]
        }
      ]
    },
    {
      "cell_type": "markdown",
      "source": [
        "***2.*** np.diag(): Creates a diagonal matrix or extracts the diagonal of a matrix"
      ],
      "metadata": {
        "id": "IK04dvEE7RGU"
      }
    },
    {
      "cell_type": "code",
      "source": [
        "# Creating a diagonal matrix with specified values on the diagonal\n",
        "diagonal_matrix = np.diag([1, 2, 3])\n",
        "print(\"Diagonal matrix:\\n\", diagonal_matrix)"
      ],
      "metadata": {
        "colab": {
          "base_uri": "https://localhost:8080/"
        },
        "id": "_vGS1nF57VnZ",
        "outputId": "d8591f6e-cb7d-4c29-dd60-de4bf2b12ad8"
      },
      "execution_count": 50,
      "outputs": [
        {
          "output_type": "stream",
          "name": "stdout",
          "text": [
            "Diagonal matrix:\n",
            " [[1 0 0]\n",
            " [0 2 0]\n",
            " [0 0 3]]\n"
          ]
        }
      ]
    },
    {
      "cell_type": "code",
      "source": [
        "# Extracting the diagonal from an existing matrix\n",
        "matrix = np.array([[1, 2, 3], [4, 5, 6], [7, 8, 9]])\n",
        "diagonal_values = np.diag(matrix)\n",
        "print(\"Extracted diagonal:\", diagonal_values)"
      ],
      "metadata": {
        "colab": {
          "base_uri": "https://localhost:8080/"
        },
        "id": "_JJyUuA87Z4U",
        "outputId": "43eed3c2-ec19-4843-bbd3-7ef7a7b85645"
      },
      "execution_count": 51,
      "outputs": [
        {
          "output_type": "stream",
          "name": "stdout",
          "text": [
            "Extracted diagonal: [1 5 9]\n"
          ]
        }
      ]
    },
    {
      "cell_type": "markdown",
      "source": [
        "### 5. Creating Arrays from Random Values"
      ],
      "metadata": {
        "id": "sKjCFxHU7e2D"
      }
    },
    {
      "cell_type": "markdown",
      "source": [
        "***1.*** np.random.rand(): Creates an array with random values from a uniform distribution over [0, 1]"
      ],
      "metadata": {
        "id": "tiABfiGn7jfB"
      }
    },
    {
      "cell_type": "code",
      "source": [
        "# Creating a 1D array with 5 random values\n",
        "random_array = np.random.rand(5)\n",
        "print(\"Random array:\", random_array)"
      ],
      "metadata": {
        "colab": {
          "base_uri": "https://localhost:8080/"
        },
        "id": "2U61ujpP7s-r",
        "outputId": "5b34df58-2048-4fb8-cbb3-ba0f2c1b9584"
      },
      "execution_count": 52,
      "outputs": [
        {
          "output_type": "stream",
          "name": "stdout",
          "text": [
            "Random array: [0.7350389  0.27744834 0.21355534 0.09324471 0.32858692]\n"
          ]
        }
      ]
    },
    {
      "cell_type": "code",
      "source": [
        "# Creating a 2D array with random values\n",
        "random_array_2d = np.random.rand(2, 3)\n",
        "print(\"Random 2D array:\\n\", random_array_2d)"
      ],
      "metadata": {
        "colab": {
          "base_uri": "https://localhost:8080/"
        },
        "id": "PlaJ9M-B7vD4",
        "outputId": "2de57ef2-e002-480d-9c41-3e946eced4b8"
      },
      "execution_count": 53,
      "outputs": [
        {
          "output_type": "stream",
          "name": "stdout",
          "text": [
            "Random 2D array:\n",
            " [[0.63350845 0.88415736 0.71557566]\n",
            " [0.21957283 0.92964756 0.66555769]]\n"
          ]
        }
      ]
    },
    {
      "cell_type": "markdown",
      "source": [
        "***2.*** np.random.randn(): Creates an array with random values from a standard normal distribution (mean = 0, variance = 1)."
      ],
      "metadata": {
        "id": "ddoJtpix7yIr"
      }
    },
    {
      "cell_type": "code",
      "source": [
        "# Creating a 1D array with random values from the standard normal distribution\n",
        "randn_array = np.random.randn(5)\n",
        "print(\"Standard normal distribution array:\", randn_array)"
      ],
      "metadata": {
        "colab": {
          "base_uri": "https://localhost:8080/"
        },
        "id": "K4UQMTax71fi",
        "outputId": "9c6a8031-f49e-4742-fb39-f768700264f7"
      },
      "execution_count": 54,
      "outputs": [
        {
          "output_type": "stream",
          "name": "stdout",
          "text": [
            "Standard normal distribution array: [ 0.31049379  0.00961945  0.68462822 -0.23455531  0.55483326]\n"
          ]
        }
      ]
    },
    {
      "cell_type": "code",
      "source": [
        "# Creating a 2D array with random values\n",
        "randn_array_2d = np.random.randn(2, 3)\n",
        "print(\"Standard normal distribution 2D array:\\n\", randn_array_2d)"
      ],
      "metadata": {
        "colab": {
          "base_uri": "https://localhost:8080/"
        },
        "id": "bd10zarA78TF",
        "outputId": "8ac1aafc-c065-43f2-918c-0e13b65cd3be"
      },
      "execution_count": 55,
      "outputs": [
        {
          "output_type": "stream",
          "name": "stdout",
          "text": [
            "Standard normal distribution 2D array:\n",
            " [[ 1.60923596  1.97946783  0.08361017]\n",
            " [-0.42343709 -0.04335305  1.10568351]]\n"
          ]
        }
      ]
    },
    {
      "cell_type": "markdown",
      "source": [
        "***3.*** np.random.randint(): Creates an array with random integers from a specified range"
      ],
      "metadata": {
        "id": "H7GYfoYv7_7Y"
      }
    },
    {
      "cell_type": "code",
      "source": [
        "# Creating a 1D array with 5 random integers between 0 and 10\n",
        "randint_array = np.random.randint(0, 10, 5)\n",
        "print(\"Random integers array:\", randint_array)"
      ],
      "metadata": {
        "colab": {
          "base_uri": "https://localhost:8080/"
        },
        "id": "ycibLYAb8DKb",
        "outputId": "773eb6cb-9011-4b1c-f718-e6798d4d8b01"
      },
      "execution_count": 56,
      "outputs": [
        {
          "output_type": "stream",
          "name": "stdout",
          "text": [
            "Random integers array: [1 1 1 2 9]\n"
          ]
        }
      ]
    },
    {
      "cell_type": "code",
      "source": [
        "# Creating a 2D array with random integers\n",
        "randint_array_2d = np.random.randint(0, 10, (2, 3))\n",
        "print(\"Random integers 2D array:\\n\", randint_array_2d)"
      ],
      "metadata": {
        "colab": {
          "base_uri": "https://localhost:8080/"
        },
        "id": "fUkM8wWw8HVv",
        "outputId": "12f115c5-b3f2-461b-e083-7726721711ec"
      },
      "execution_count": 57,
      "outputs": [
        {
          "output_type": "stream",
          "name": "stdout",
          "text": [
            "Random integers 2D array:\n",
            " [[3 6 3]\n",
            " [5 3 9]]\n"
          ]
        }
      ]
    },
    {
      "cell_type": "markdown",
      "source": [
        "# DAY_1 RECAP:"
      ],
      "metadata": {
        "id": "v0MkZXr--W2f"
      }
    },
    {
      "cell_type": "markdown",
      "source": [
        "## Day 1 Recap: Understanding and Creating NumPy Arrays\n",
        "\n",
        "1. **Differences Between NumPy Arrays and Python Lists**:\n",
        "   - **Homogeneity**: NumPy arrays are homogeneous, while Python lists can contain mixed data types.\n",
        "   - **Memory Efficiency**: NumPy arrays use less memory and are more efficient for numerical data.\n",
        "   - **Performance**: NumPy arrays are optimized for numerical operations and are faster than Python lists.\n",
        "   - **Mathematical Operations**: NumPy arrays support a wide range of element-wise and matrix operations.\n",
        "   - **Functionality**: NumPy is designed for numerical and scientific computing with extensive functionalities.\n",
        "   - **Dimensionality**: NumPy arrays natively support multi-dimensional data.\n",
        "   - **Slicing and Indexing**: Advanced slicing and indexing capabilities in NumPy arrays.\n",
        "\n",
        "2. **Creating Arrays**:\n",
        "   - **Converting Python Lists to NumPy Arrays**:\n",
        "     - Use `np.array()` to convert lists (or nested lists) to NumPy arrays.\n",
        "   - **Creating Arrays with Default Values**:\n",
        "     - `np.zeros()`: Creates arrays filled with zeros.\n",
        "     - `np.ones()`: Creates arrays filled with ones.\n",
        "     - `np.full()`: Creates arrays filled with a specified constant value.\n",
        "   - **Creating Arrays with a Range of Values**:\n",
        "     - `np.arange()`: Creates arrays with sequences of values.\n",
        "     - `np.linspace()`: Creates arrays with evenly spaced values over a specified interval.\n",
        "   - **Creating Identity and Diagonal Matrices**:\n",
        "     - `np.eye()`: Creates identity matrices.\n",
        "     - `np.diag()`: Creates diagonal matrices or extracts diagonals.\n",
        "   - **Creating Arrays from Random Values**:\n",
        "     - `np.random.rand()`: Creates arrays with random values from a uniform distribution.\n",
        "     - `np.random.randn()`: Creates arrays with random values from a standard normal distribution.\n",
        "     - `np.random.randint()`: Creates arrays with random integers from a specified range.\n",
        "\n",
        "\n",
        "\n",
        "\n"
      ],
      "metadata": {
        "id": "Sl6bGp-z96HR"
      }
    },
    {
      "cell_type": "code",
      "source": [],
      "metadata": {
        "id": "Hk1JZayz9_1f"
      },
      "execution_count": null,
      "outputs": []
    }
  ]
}